{
 "cells": [
  {
   "cell_type": "code",
   "execution_count": 30,
   "metadata": {},
   "outputs": [],
   "source": [
    "#Question 1.1\n",
    "\n",
    "class TakeSides():\n",
    "    \n",
    "    def sides_input(self):\n",
    "        self.a = float(input(\"Please Enter the first side of the triangle: \"))\n",
    "        self.b = float(input(\"Please Enter the second side of the triangle: \"))\n",
    "        self.c = float(input(\"Please Enter the third side of the triangle: \"))\n",
    "\n",
    "class Area(TakeSides):\n",
    "    \n",
    "    def calc_area(self):\n",
    "        if (self.a + self.b > self.c) and (self.b + self.c > self.a) and (self.a + self.c > self.b):\n",
    "            self.s = (self.a + self.b + self.c) / 2\n",
    "            self.area = (self.s * (self.s-self.a) * (self.s-self.b) * (self.s-self.c)) ** 0.5\n",
    "            print(self.area)\n",
    "        else:\n",
    "            print(\"These sides cannot form a triangle\")"
   ]
  },
  {
   "cell_type": "code",
   "execution_count": 31,
   "metadata": {},
   "outputs": [],
   "source": [
    "my_var = Area()"
   ]
  },
  {
   "cell_type": "code",
   "execution_count": 32,
   "metadata": {},
   "outputs": [
    {
     "name": "stdout",
     "output_type": "stream",
     "text": [
      "Please Enter the first side of the triangle: 4\n",
      "Please Enter the second side of the triangle: 4\n",
      "Please Enter the third side of the triangle: 5\n"
     ]
    }
   ],
   "source": [
    "my_var.sides_input()"
   ]
  },
  {
   "cell_type": "code",
   "execution_count": 33,
   "metadata": {},
   "outputs": [
    {
     "name": "stdout",
     "output_type": "stream",
     "text": [
      "7.806247497997997\n"
     ]
    }
   ],
   "source": [
    "my_var.calc_area()"
   ]
  },
  {
   "cell_type": "code",
   "execution_count": 50,
   "metadata": {},
   "outputs": [
    {
     "name": "stdout",
     "output_type": "stream",
     "text": [
      "['Machine', 'Learning']\n"
     ]
    }
   ],
   "source": [
    "# Question 1.2\n",
    "\n",
    "def filter_long_words(words_list, n):\n",
    "    my_l = []\n",
    "    for word in words_list:\n",
    "        if len(word) > n:\n",
    "            my_l.append(word)\n",
    "    return my_l\n",
    "\n",
    "words_list = ['Test', 'Coding' , 'Python', 'Machine' , 'Learning']\n",
    "long_words = filter_long_words(words_list, 6)\n",
    "print(long_words)\n"
   ]
  },
  {
   "cell_type": "code",
   "execution_count": 51,
   "metadata": {},
   "outputs": [
    {
     "data": {
      "text/plain": [
       "[4, 6, 6, 7, 8]"
      ]
     },
     "execution_count": 51,
     "metadata": {},
     "output_type": "execute_result"
    }
   ],
   "source": [
    "# Question 2.1\n",
    "\n",
    "def length_mapper(words_list):\n",
    "    ret_list = []\n",
    "    for word in words_list:\n",
    "        ret_list.append(len(word))\n",
    "    \n",
    "    return ret_list\n",
    "\n",
    "words_list = ['Test', 'Coding' , 'Python', 'Machine' , 'Learning']\n",
    "length_mapper(words_list)\n",
    "        "
   ]
  },
  {
   "cell_type": "code",
   "execution_count": 53,
   "metadata": {},
   "outputs": [
    {
     "data": {
      "text/plain": [
       "True"
      ]
     },
     "execution_count": 53,
     "metadata": {},
     "output_type": "execute_result"
    }
   ],
   "source": [
    "# Question 2.2\n",
    "def tell_vowel(ch):\n",
    "    ans = False\n",
    "    if ch in 'aeiou' or ch in 'AEIOU':\n",
    "        ans = True\n",
    "    return ans\n",
    "\n",
    "tell_vowel('a')"
   ]
  },
  {
   "cell_type": "code",
   "execution_count": 54,
   "metadata": {},
   "outputs": [
    {
     "data": {
      "text/plain": [
       "False"
      ]
     },
     "execution_count": 54,
     "metadata": {},
     "output_type": "execute_result"
    }
   ],
   "source": [
    "tell_vowel('b')"
   ]
  },
  {
   "cell_type": "code",
   "execution_count": null,
   "metadata": {},
   "outputs": [],
   "source": []
  }
 ],
 "metadata": {
  "kernelspec": {
   "display_name": "Python 3",
   "language": "python",
   "name": "python3"
  },
  "language_info": {
   "codemirror_mode": {
    "name": "ipython",
    "version": 3
   },
   "file_extension": ".py",
   "mimetype": "text/x-python",
   "name": "python",
   "nbconvert_exporter": "python",
   "pygments_lexer": "ipython3",
   "version": "3.8.5"
  }
 },
 "nbformat": 4,
 "nbformat_minor": 4
}
